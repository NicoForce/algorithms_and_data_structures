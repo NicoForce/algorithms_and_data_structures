{
 "cells": [
  {
   "cell_type": "markdown",
   "id": "31fd5ad1",
   "metadata": {},
   "source": [
    "\n",
    "## Part 3:\n",
    "\n",
    "Create a Jupyter Notebook, create 6 of the following headings, and complete the following for your partner's assignment 1:\n",
    "\n",
    "-   Paraphrase the problem in your own words.\n"
   ]
  },
  {
   "cell_type": "markdown",
   "id": "78eff060",
   "metadata": {},
   "source": [
    "The problem consists on identifying whether a string consisting of parenthesis, curly braces and squared brackets are a valid sequence. It follows a base from math where every opened bracket has to closed, inside of it can exist multiple other brackets, but each of them has to be closed properly.\n",
    "\n",
    "For example in math, something like the following would work:\n",
    "\n",
    "((a + b) * (c + d) - [(x - 1)]) -> each inner parenthesis is closed properly before going into the next layer\n",
    "\n",
    "Contrary to this example:\n",
    "\n",
    "(a + b )) - [x{*y-1]} -> where there's extra characters or thing are not closed properly, even vscode tells me with red characters that something in that formula is wrong"
   ]
  },
  {
   "cell_type": "markdown",
   "id": "a0dce4c5",
   "metadata": {},
   "source": [
    "\n",
    "-   Create 1 new example that demonstrates you understand the problem. Trace/walkthrough 1 example that your partner made and explain it.\n"
   ]
  },
  {
   "cell_type": "markdown",
   "id": "44a1cff7",
   "metadata": {},
   "source": [
    "For a proper example more exactly related to the problem:\n",
    "\n",
    "Input: s = \"([{}[](){{()}}])\"\n",
    "Output: True\n",
    "\n",
    "Input: s = \"(){{[([)]]}}\"\n",
    "Output: False\n",
    "\n",
    "Let's trace the following example that Darling set: \"([{({}[])}])\"\n",
    "\n",
    "For easy visualization, we'll indent it in multiple lines until we find wether it closes properly or not:\n",
    "(\n",
    "    [\n",
    "        {\n",
    "            (\n",
    "                {}\n",
    "                []\n",
    "            )\n",
    "        }\n",
    "    ]\n",
    ")\n",
    "\n",
    "^ Base on the above we can easily see the example follows the structure, so it would return True\n",
    "\n",
    "However for this other example \"{[}]\", if we try to do the same:\n",
    "\n",
    "{\n",
    "    [\n",
    "    }\n",
    "]\n",
    "\n",
    "We'll see that symbols don't match, so we can assume this is incorrect and should return False"
   ]
  },
  {
   "cell_type": "markdown",
   "id": "a07bc3bb",
   "metadata": {},
   "source": [
    "\n",
    "-   Copy the solution your partner wrote. \n"
   ]
  },
  {
   "cell_type": "code",
   "execution_count": null,
   "id": "d13f85de",
   "metadata": {},
   "outputs": [],
   "source": [
    "def is_valid_brackets(s: str) -> bool:\n",
    "    #In here I will define an empty stack to track the opening brackets as a buffer\n",
    "    stack = []\n",
    "    # Now, I will define a dictionary that maps closing brackets to opening brackets, only with the ones we will accept\n",
    "    # just to remember a dictionary is a pair of keys and values in the format {key: value}, so in my case all values will be opening brackets\n",
    "    #               key:value\n",
    "\n",
    "    bracket_dict = {')': '(',\n",
    "                    '}': '{', \n",
    "                    ']': '['\n",
    "                    }\n",
    "\n",
    "    # I will loop through each character in the input string\n",
    "    for char in s:\n",
    "\n",
    "        #In here I will check if the character is an opening or closing bracket\n",
    "\n",
    "        #For opening brackets I will append it to the stack\n",
    "        if char in bracket_dict.values():  # opening brackets check\n",
    "            stack.append(char)\n",
    "\n",
    "        #For closing brackets I will compare it with the top of the stack\n",
    "        elif char in bracket_dict:  # closing brackets\n",
    "            if not stack or stack[-1] != bracket_dict[char]: #is the stack empty? or is the top of the stack not equal to the corresponding closing bracket. Therefore return false\n",
    "                return False\n",
    "            stack.pop()    #if not return false, then I will pop the top of the stack\n",
    "        else:\n",
    "            # If there are any invalid characters (not expected in this problem)\n",
    "            return False\n",
    "    return not stack  # stack should be empty if all brackets matched"
   ]
  },
  {
   "cell_type": "markdown",
   "id": "d3034d0c",
   "metadata": {},
   "source": [
    "\n",
    "-   Explain why their solution works in your own words.\n"
   ]
  },
  {
   "cell_type": "markdown",
   "id": "e9f27543",
   "metadata": {},
   "source": [
    "Starting with the base values, using a dictionary with the closing brackets as keys and opening brackets as values is the right approach for a clean solution.\n",
    "\n",
    "All characters need to be looped since even the last character could be the one offending and causing the solution to turn False.\n",
    "\n",
    "Each time there's an opening bracket, it will be added to the stack, as in waiting for the closing bracket in order to be removed in a FILO or LIFO order, that way it maintains the valid structure.\n",
    "\n",
    "If there's a closing bracket without a match, or if there's any other character left at the end of the string, a false will be returned."
   ]
  },
  {
   "cell_type": "markdown",
   "id": "91cf1f93",
   "metadata": {},
   "source": [
    "\n",
    "-   Explain the problem’s time and space complexity in your own words.\n"
   ]
  },
  {
   "cell_type": "markdown",
   "id": "84f7a79a",
   "metadata": {},
   "source": [
    "Since there's only one iteration of the input list, the time complexity is O(n).\n",
    "\n",
    "As for the space complexity, the bracket dict would be O(1), and the stack itself would be at worst case O(n), therefore the space complexity is O(n) too."
   ]
  },
  {
   "cell_type": "markdown",
   "id": "788b6d71",
   "metadata": {},
   "source": [
    "\n",
    "-   Critique your partner's solution, including explanation, and if there is anything that should be adjusted.\n"
   ]
  },
  {
   "cell_type": "markdown",
   "id": "26cf6dad",
   "metadata": {},
   "source": [
    "Since the solution is working, it's hard to find a flaw that can be mentioned, let's start with the non-technical aspect that's easy to identify. The excessive comments reduce readibility, instead a common standard for writing methods would be as follows:\n",
    "\n",
    "# Comments explaining how function works\n",
    "# Adding multiple lines if needed\n",
    "def function():\n",
    "  logic\n",
    "  # Maybe a comment here for this extra hard line to understand (very niche situations)\n",
    "  very_hard_line_to_understand\n",
    "  return result\n",
    "\n",
    "On the time and space complexity, I don't see any improvements that are possible.\n",
    "\n",
    "One other improvement would be the cleanup of input, meaning identifying whether an input has valid or invalid characters, whether to discard them automatically or simply remove those characters and process the string as valid or not. In my opinion, cleaning or rejection of input should happen in a separate function, as in principle, we should keep functions as short as possible and doing only one thing at a time."
   ]
  }
 ],
 "metadata": {
  "kernelspec": {
   "display_name": "dsi_participant",
   "language": "python",
   "name": "python3"
  },
  "language_info": {
   "name": "python",
   "version": "3.9.21"
  }
 },
 "nbformat": 4,
 "nbformat_minor": 5
}
